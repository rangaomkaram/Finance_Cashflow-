{
 "cells": [
  {
   "cell_type": "code",
   "execution_count": 2,
   "metadata": {},
   "outputs": [],
   "source": [
    "import pandas as pd\n",
    "import numpy as np"
   ]
  },
  {
   "cell_type": "code",
   "execution_count": 3,
   "metadata": {},
   "outputs": [],
   "source": [
    "import matplotlib.pyplot as plt\n",
    "import seaborn as sns"
   ]
  },
  {
   "cell_type": "code",
   "execution_count": 5,
   "metadata": {},
   "outputs": [],
   "source": [
    "df = pd.read_excel(r\"C:\\Users\\omkar\\PYTHON_PROJECTS\\POWERBI_PROJECTS\\Financial Cash Flow\\Dataset\\DataBase.xlsx\")"
   ]
  },
  {
   "cell_type": "code",
   "execution_count": 6,
   "metadata": {},
   "outputs": [
    {
     "data": {
      "text/html": [
       "<div>\n",
       "<style scoped>\n",
       "    .dataframe tbody tr th:only-of-type {\n",
       "        vertical-align: middle;\n",
       "    }\n",
       "\n",
       "    .dataframe tbody tr th {\n",
       "        vertical-align: top;\n",
       "    }\n",
       "\n",
       "    .dataframe thead th {\n",
       "        text-align: right;\n",
       "    }\n",
       "</style>\n",
       "<table border=\"1\" class=\"dataframe\">\n",
       "  <thead>\n",
       "    <tr style=\"text-align: right;\">\n",
       "      <th></th>\n",
       "      <th>Account ID</th>\n",
       "      <th>Category</th>\n",
       "      <th>Sub Category</th>\n",
       "      <th>Groups</th>\n",
       "      <th>Cash Flow Type</th>\n",
       "      <th>Type</th>\n",
       "    </tr>\n",
       "  </thead>\n",
       "  <tbody>\n",
       "    <tr>\n",
       "      <th>0</th>\n",
       "      <td>3</td>\n",
       "      <td>CASH OUT FLOW</td>\n",
       "      <td>TRANSACTIONS</td>\n",
       "      <td>INVESTMENTS (INVEST)</td>\n",
       "      <td>NON-OPERATIONAL</td>\n",
       "      <td>REVENUE</td>\n",
       "    </tr>\n",
       "    <tr>\n",
       "      <th>1</th>\n",
       "      <td>4</td>\n",
       "      <td>CASH IN FLOW</td>\n",
       "      <td>TRANSACTIONS</td>\n",
       "      <td>INVESTMENTS (REDEEM)</td>\n",
       "      <td>NON-OPERATIONAL</td>\n",
       "      <td>REVENUE</td>\n",
       "    </tr>\n",
       "    <tr>\n",
       "      <th>2</th>\n",
       "      <td>6</td>\n",
       "      <td>CASH OUT FLOW</td>\n",
       "      <td>TRANSACTIONS</td>\n",
       "      <td>MUTUAL - EXPENSE</td>\n",
       "      <td>NON-OPERATIONAL</td>\n",
       "      <td>REVENUE</td>\n",
       "    </tr>\n",
       "    <tr>\n",
       "      <th>3</th>\n",
       "      <td>5</td>\n",
       "      <td>CASH IN FLOW</td>\n",
       "      <td>TRANSACTIONS</td>\n",
       "      <td>MUTUAL - REVENUE</td>\n",
       "      <td>NON-OPERATIONAL</td>\n",
       "      <td>REVENUE</td>\n",
       "    </tr>\n",
       "  </tbody>\n",
       "</table>\n",
       "</div>"
      ],
      "text/plain": [
       "   Account ID       Category  Sub Category                Groups  \\\n",
       "0           3  CASH OUT FLOW  TRANSACTIONS  INVESTMENTS (INVEST)   \n",
       "1           4   CASH IN FLOW  TRANSACTIONS  INVESTMENTS (REDEEM)   \n",
       "2           6  CASH OUT FLOW  TRANSACTIONS      MUTUAL - EXPENSE   \n",
       "3           5   CASH IN FLOW  TRANSACTIONS      MUTUAL - REVENUE   \n",
       "\n",
       "    Cash Flow Type     Type  \n",
       "0  NON-OPERATIONAL  REVENUE  \n",
       "1  NON-OPERATIONAL  REVENUE  \n",
       "2  NON-OPERATIONAL  REVENUE  \n",
       "3  NON-OPERATIONAL  REVENUE  "
      ]
     },
     "execution_count": 6,
     "metadata": {},
     "output_type": "execute_result"
    }
   ],
   "source": [
    "df.head(4)"
   ]
  },
  {
   "cell_type": "code",
   "execution_count": 7,
   "metadata": {},
   "outputs": [],
   "source": [
    "excels = pd.ExcelFile(r\"C:\\Users\\omkar\\PYTHON_PROJECTS\\POWERBI_PROJECTS\\Financial Cash Flow\\Dataset\\DataBase.Xlsx\")\n",
    "sheets = excels.sheet_names"
   ]
  },
  {
   "cell_type": "code",
   "execution_count": 8,
   "metadata": {},
   "outputs": [
    {
     "name": "stdout",
     "output_type": "stream",
     "text": [
      "['Chart Of Accounts', 'Payments', 'Income']\n"
     ]
    }
   ],
   "source": [
    "print(sheets)"
   ]
  },
  {
   "cell_type": "code",
   "execution_count": 9,
   "metadata": {},
   "outputs": [
    {
     "data": {
      "text/html": [
       "<div>\n",
       "<style scoped>\n",
       "    .dataframe tbody tr th:only-of-type {\n",
       "        vertical-align: middle;\n",
       "    }\n",
       "\n",
       "    .dataframe tbody tr th {\n",
       "        vertical-align: top;\n",
       "    }\n",
       "\n",
       "    .dataframe thead th {\n",
       "        text-align: right;\n",
       "    }\n",
       "</style>\n",
       "<table border=\"1\" class=\"dataframe\">\n",
       "  <thead>\n",
       "    <tr style=\"text-align: right;\">\n",
       "      <th></th>\n",
       "      <th>Account ID</th>\n",
       "      <th>Category</th>\n",
       "      <th>Sub Category</th>\n",
       "      <th>Groups</th>\n",
       "      <th>Cash Flow Type</th>\n",
       "      <th>Type</th>\n",
       "    </tr>\n",
       "  </thead>\n",
       "  <tbody>\n",
       "    <tr>\n",
       "      <th>0</th>\n",
       "      <td>3</td>\n",
       "      <td>CASH OUT FLOW</td>\n",
       "      <td>TRANSACTIONS</td>\n",
       "      <td>INVESTMENTS (INVEST)</td>\n",
       "      <td>NON-OPERATIONAL</td>\n",
       "      <td>REVENUE</td>\n",
       "    </tr>\n",
       "    <tr>\n",
       "      <th>1</th>\n",
       "      <td>4</td>\n",
       "      <td>CASH IN FLOW</td>\n",
       "      <td>TRANSACTIONS</td>\n",
       "      <td>INVESTMENTS (REDEEM)</td>\n",
       "      <td>NON-OPERATIONAL</td>\n",
       "      <td>REVENUE</td>\n",
       "    </tr>\n",
       "    <tr>\n",
       "      <th>2</th>\n",
       "      <td>6</td>\n",
       "      <td>CASH OUT FLOW</td>\n",
       "      <td>TRANSACTIONS</td>\n",
       "      <td>MUTUAL - EXPENSE</td>\n",
       "      <td>NON-OPERATIONAL</td>\n",
       "      <td>REVENUE</td>\n",
       "    </tr>\n",
       "    <tr>\n",
       "      <th>3</th>\n",
       "      <td>5</td>\n",
       "      <td>CASH IN FLOW</td>\n",
       "      <td>TRANSACTIONS</td>\n",
       "      <td>MUTUAL - REVENUE</td>\n",
       "      <td>NON-OPERATIONAL</td>\n",
       "      <td>REVENUE</td>\n",
       "    </tr>\n",
       "  </tbody>\n",
       "</table>\n",
       "</div>"
      ],
      "text/plain": [
       "   Account ID       Category  Sub Category                Groups  \\\n",
       "0           3  CASH OUT FLOW  TRANSACTIONS  INVESTMENTS (INVEST)   \n",
       "1           4   CASH IN FLOW  TRANSACTIONS  INVESTMENTS (REDEEM)   \n",
       "2           6  CASH OUT FLOW  TRANSACTIONS      MUTUAL - EXPENSE   \n",
       "3           5   CASH IN FLOW  TRANSACTIONS      MUTUAL - REVENUE   \n",
       "\n",
       "    Cash Flow Type     Type  \n",
       "0  NON-OPERATIONAL  REVENUE  \n",
       "1  NON-OPERATIONAL  REVENUE  \n",
       "2  NON-OPERATIONAL  REVENUE  \n",
       "3  NON-OPERATIONAL  REVENUE  "
      ]
     },
     "execution_count": 9,
     "metadata": {},
     "output_type": "execute_result"
    }
   ],
   "source": [
    "CA_df = pd.read_excel(r\"C:\\Users\\omkar\\PYTHON_PROJECTS\\POWERBI_PROJECTS\\Financial Cash Flow\\Dataset\\DataBase.xlsx\",sheet_name='Chart Of Accounts')\n",
    "CA_df.head(4)"
   ]
  },
  {
   "cell_type": "code",
   "execution_count": 14,
   "metadata": {},
   "outputs": [
    {
     "ename": "AttributeError",
     "evalue": "'DataFrame' object has no attribute 'unique_count'",
     "output_type": "error",
     "traceback": [
      "\u001b[1;31m---------------------------------------------------------------------------\u001b[0m",
      "\u001b[1;31mAttributeError\u001b[0m                            Traceback (most recent call last)",
      "\u001b[1;32mc:\\Users\\omkar\\PYTHON_PROJECTS\\POWERBI_PROJECTS\\Financial Cash Flow\\EDA\\Finance_Analysis.ipynb Cell 8'\u001b[0m in \u001b[0;36m<cell line: 1>\u001b[1;34m()\u001b[0m\n\u001b[1;32m----> <a href='vscode-notebook-cell:/c%3A/Users/omkar/PYTHON_PROJECTS/POWERBI_PROJECTS/Financial%20Cash%20Flow/EDA/Finance_Analysis.ipynb#ch0000007?line=0'>1</a>\u001b[0m CA_df\u001b[39m.\u001b[39;49munique_count()\n",
      "File \u001b[1;32mc:\\Users\\omkar\\PYTHON_PROJECTS\\POWERBI_PROJECTS\\Financial Cash Flow\\finance\\lib\\site-packages\\pandas\\core\\generic.py:5575\u001b[0m, in \u001b[0;36mNDFrame.__getattr__\u001b[1;34m(self, name)\u001b[0m\n\u001b[0;32m   <a href='file:///c%3A/Users/omkar/PYTHON_PROJECTS/POWERBI_PROJECTS/Financial%20Cash%20Flow/finance/lib/site-packages/pandas/core/generic.py?line=5567'>5568</a>\u001b[0m \u001b[39mif\u001b[39;00m (\n\u001b[0;32m   <a href='file:///c%3A/Users/omkar/PYTHON_PROJECTS/POWERBI_PROJECTS/Financial%20Cash%20Flow/finance/lib/site-packages/pandas/core/generic.py?line=5568'>5569</a>\u001b[0m     name \u001b[39mnot\u001b[39;00m \u001b[39min\u001b[39;00m \u001b[39mself\u001b[39m\u001b[39m.\u001b[39m_internal_names_set\n\u001b[0;32m   <a href='file:///c%3A/Users/omkar/PYTHON_PROJECTS/POWERBI_PROJECTS/Financial%20Cash%20Flow/finance/lib/site-packages/pandas/core/generic.py?line=5569'>5570</a>\u001b[0m     \u001b[39mand\u001b[39;00m name \u001b[39mnot\u001b[39;00m \u001b[39min\u001b[39;00m \u001b[39mself\u001b[39m\u001b[39m.\u001b[39m_metadata\n\u001b[0;32m   <a href='file:///c%3A/Users/omkar/PYTHON_PROJECTS/POWERBI_PROJECTS/Financial%20Cash%20Flow/finance/lib/site-packages/pandas/core/generic.py?line=5570'>5571</a>\u001b[0m     \u001b[39mand\u001b[39;00m name \u001b[39mnot\u001b[39;00m \u001b[39min\u001b[39;00m \u001b[39mself\u001b[39m\u001b[39m.\u001b[39m_accessors\n\u001b[0;32m   <a href='file:///c%3A/Users/omkar/PYTHON_PROJECTS/POWERBI_PROJECTS/Financial%20Cash%20Flow/finance/lib/site-packages/pandas/core/generic.py?line=5571'>5572</a>\u001b[0m     \u001b[39mand\u001b[39;00m \u001b[39mself\u001b[39m\u001b[39m.\u001b[39m_info_axis\u001b[39m.\u001b[39m_can_hold_identifiers_and_holds_name(name)\n\u001b[0;32m   <a href='file:///c%3A/Users/omkar/PYTHON_PROJECTS/POWERBI_PROJECTS/Financial%20Cash%20Flow/finance/lib/site-packages/pandas/core/generic.py?line=5572'>5573</a>\u001b[0m ):\n\u001b[0;32m   <a href='file:///c%3A/Users/omkar/PYTHON_PROJECTS/POWERBI_PROJECTS/Financial%20Cash%20Flow/finance/lib/site-packages/pandas/core/generic.py?line=5573'>5574</a>\u001b[0m     \u001b[39mreturn\u001b[39;00m \u001b[39mself\u001b[39m[name]\n\u001b[1;32m-> <a href='file:///c%3A/Users/omkar/PYTHON_PROJECTS/POWERBI_PROJECTS/Financial%20Cash%20Flow/finance/lib/site-packages/pandas/core/generic.py?line=5574'>5575</a>\u001b[0m \u001b[39mreturn\u001b[39;00m \u001b[39mobject\u001b[39;49m\u001b[39m.\u001b[39;49m\u001b[39m__getattribute__\u001b[39;49m(\u001b[39mself\u001b[39;49m, name)\n",
      "\u001b[1;31mAttributeError\u001b[0m: 'DataFrame' object has no attribute 'unique_count'"
     ]
    }
   ],
   "source": [
    "CA_df.unique_count()"
   ]
  },
  {
   "cell_type": "code",
   "execution_count": 15,
   "metadata": {},
   "outputs": [
    {
     "data": {
      "text/html": [
       "<div>\n",
       "<style scoped>\n",
       "    .dataframe tbody tr th:only-of-type {\n",
       "        vertical-align: middle;\n",
       "    }\n",
       "\n",
       "    .dataframe tbody tr th {\n",
       "        vertical-align: top;\n",
       "    }\n",
       "\n",
       "    .dataframe thead th {\n",
       "        text-align: right;\n",
       "    }\n",
       "</style>\n",
       "<table border=\"1\" class=\"dataframe\">\n",
       "  <thead>\n",
       "    <tr style=\"text-align: right;\">\n",
       "      <th></th>\n",
       "      <th>Account ID</th>\n",
       "      <th>Category</th>\n",
       "      <th>Sub Category</th>\n",
       "      <th>Groups</th>\n",
       "      <th>Cash Flow Type</th>\n",
       "      <th>Type</th>\n",
       "    </tr>\n",
       "  </thead>\n",
       "  <tbody>\n",
       "    <tr>\n",
       "      <th>0</th>\n",
       "      <td>3</td>\n",
       "      <td>CASH OUT FLOW</td>\n",
       "      <td>TRANSACTIONS</td>\n",
       "      <td>INVESTMENTS (INVEST)</td>\n",
       "      <td>NON-OPERATIONAL</td>\n",
       "      <td>REVENUE</td>\n",
       "    </tr>\n",
       "    <tr>\n",
       "      <th>1</th>\n",
       "      <td>4</td>\n",
       "      <td>CASH IN FLOW</td>\n",
       "      <td>TRANSACTIONS</td>\n",
       "      <td>INVESTMENTS (REDEEM)</td>\n",
       "      <td>NON-OPERATIONAL</td>\n",
       "      <td>REVENUE</td>\n",
       "    </tr>\n",
       "    <tr>\n",
       "      <th>2</th>\n",
       "      <td>6</td>\n",
       "      <td>CASH OUT FLOW</td>\n",
       "      <td>TRANSACTIONS</td>\n",
       "      <td>MUTUAL - EXPENSE</td>\n",
       "      <td>NON-OPERATIONAL</td>\n",
       "      <td>REVENUE</td>\n",
       "    </tr>\n",
       "    <tr>\n",
       "      <th>3</th>\n",
       "      <td>5</td>\n",
       "      <td>CASH IN FLOW</td>\n",
       "      <td>TRANSACTIONS</td>\n",
       "      <td>MUTUAL - REVENUE</td>\n",
       "      <td>NON-OPERATIONAL</td>\n",
       "      <td>REVENUE</td>\n",
       "    </tr>\n",
       "    <tr>\n",
       "      <th>4</th>\n",
       "      <td>2</td>\n",
       "      <td>CASH OUT FLOW</td>\n",
       "      <td>TRANSACTIONS</td>\n",
       "      <td>TRANSFERS AMONG EXPENSE ACCOUNTS</td>\n",
       "      <td>NON-OPERATIONAL</td>\n",
       "      <td>REVENUE</td>\n",
       "    </tr>\n",
       "  </tbody>\n",
       "</table>\n",
       "</div>"
      ],
      "text/plain": [
       "   Account ID       Category  Sub Category                            Groups  \\\n",
       "0           3  CASH OUT FLOW  TRANSACTIONS              INVESTMENTS (INVEST)   \n",
       "1           4   CASH IN FLOW  TRANSACTIONS              INVESTMENTS (REDEEM)   \n",
       "2           6  CASH OUT FLOW  TRANSACTIONS                  MUTUAL - EXPENSE   \n",
       "3           5   CASH IN FLOW  TRANSACTIONS                  MUTUAL - REVENUE   \n",
       "4           2  CASH OUT FLOW  TRANSACTIONS  TRANSFERS AMONG EXPENSE ACCOUNTS   \n",
       "\n",
       "    Cash Flow Type     Type  \n",
       "0  NON-OPERATIONAL  REVENUE  \n",
       "1  NON-OPERATIONAL  REVENUE  \n",
       "2  NON-OPERATIONAL  REVENUE  \n",
       "3  NON-OPERATIONAL  REVENUE  \n",
       "4  NON-OPERATIONAL  REVENUE  "
      ]
     },
     "execution_count": 15,
     "metadata": {},
     "output_type": "execute_result"
    }
   ],
   "source": [
    "CA_df.head()"
   ]
  },
  {
   "cell_type": "code",
   "execution_count": 16,
   "metadata": {},
   "outputs": [],
   "source": [
    "readexcel = pd.ExcelFile(r\"C:\\Users\\omkar\\PYTHON_PROJECTS\\POWERBI_PROJECTS\\Financial Cash Flow\\Dataset\\DataBase.xlsx\")\n",
    "sheetnames = readexcel.sheet_names"
   ]
  },
  {
   "cell_type": "code",
   "execution_count": 17,
   "metadata": {},
   "outputs": [
    {
     "data": {
      "text/plain": [
       "['Chart Of Accounts', 'Payments', 'Income']"
      ]
     },
     "execution_count": 17,
     "metadata": {},
     "output_type": "execute_result"
    }
   ],
   "source": [
    "sheetnames"
   ]
  },
  {
   "cell_type": "code",
   "execution_count": 18,
   "metadata": {},
   "outputs": [
    {
     "data": {
      "text/html": [
       "<div>\n",
       "<style scoped>\n",
       "    .dataframe tbody tr th:only-of-type {\n",
       "        vertical-align: middle;\n",
       "    }\n",
       "\n",
       "    .dataframe tbody tr th {\n",
       "        vertical-align: top;\n",
       "    }\n",
       "\n",
       "    .dataframe thead th {\n",
       "        text-align: right;\n",
       "    }\n",
       "</style>\n",
       "<table border=\"1\" class=\"dataframe\">\n",
       "  <thead>\n",
       "    <tr style=\"text-align: right;\">\n",
       "      <th></th>\n",
       "      <th>Issue Date</th>\n",
       "      <th>Due Date</th>\n",
       "      <th>Settlement Date</th>\n",
       "      <th>Chart Account ID</th>\n",
       "      <th>UF</th>\n",
       "      <th>Customer</th>\n",
       "      <th>Amount Received</th>\n",
       "    </tr>\n",
       "  </thead>\n",
       "  <tbody>\n",
       "    <tr>\n",
       "      <th>0</th>\n",
       "      <td>2017-01-02</td>\n",
       "      <td>2017-01-30</td>\n",
       "      <td>2017-01-31</td>\n",
       "      <td>5003</td>\n",
       "      <td>RJ</td>\n",
       "      <td>Customer 1</td>\n",
       "      <td>787.13</td>\n",
       "    </tr>\n",
       "    <tr>\n",
       "      <th>1</th>\n",
       "      <td>2017-01-02</td>\n",
       "      <td>2017-02-01</td>\n",
       "      <td>2017-02-02</td>\n",
       "      <td>5003</td>\n",
       "      <td>RJ</td>\n",
       "      <td>Customer 1</td>\n",
       "      <td>655.13</td>\n",
       "    </tr>\n",
       "    <tr>\n",
       "      <th>2</th>\n",
       "      <td>2017-01-02</td>\n",
       "      <td>2017-02-06</td>\n",
       "      <td>2017-02-07</td>\n",
       "      <td>5003</td>\n",
       "      <td>RJ</td>\n",
       "      <td>Customer 1</td>\n",
       "      <td>354.72</td>\n",
       "    </tr>\n",
       "    <tr>\n",
       "      <th>3</th>\n",
       "      <td>2017-01-03</td>\n",
       "      <td>2017-01-03</td>\n",
       "      <td>2017-01-04</td>\n",
       "      <td>5003</td>\n",
       "      <td>SP</td>\n",
       "      <td>Customer 2</td>\n",
       "      <td>2597.01</td>\n",
       "    </tr>\n",
       "    <tr>\n",
       "      <th>4</th>\n",
       "      <td>2017-01-03</td>\n",
       "      <td>2017-02-07</td>\n",
       "      <td>2017-02-08</td>\n",
       "      <td>5003</td>\n",
       "      <td>SP</td>\n",
       "      <td>Customer 3</td>\n",
       "      <td>785.65</td>\n",
       "    </tr>\n",
       "    <tr>\n",
       "      <th>5</th>\n",
       "      <td>2017-01-03</td>\n",
       "      <td>2017-01-31</td>\n",
       "      <td>2017-02-01</td>\n",
       "      <td>5003</td>\n",
       "      <td>SP</td>\n",
       "      <td>Customer 3</td>\n",
       "      <td>1084.78</td>\n",
       "    </tr>\n",
       "  </tbody>\n",
       "</table>\n",
       "</div>"
      ],
      "text/plain": [
       "  Issue Date   Due Date Settlement Date  Chart Account ID  UF    Customer  \\\n",
       "0 2017-01-02 2017-01-30      2017-01-31              5003  RJ  Customer 1   \n",
       "1 2017-01-02 2017-02-01      2017-02-02              5003  RJ  Customer 1   \n",
       "2 2017-01-02 2017-02-06      2017-02-07              5003  RJ  Customer 1   \n",
       "3 2017-01-03 2017-01-03      2017-01-04              5003  SP  Customer 2   \n",
       "4 2017-01-03 2017-02-07      2017-02-08              5003  SP  Customer 3   \n",
       "5 2017-01-03 2017-01-31      2017-02-01              5003  SP  Customer 3   \n",
       "\n",
       "   Amount Received  \n",
       "0           787.13  \n",
       "1           655.13  \n",
       "2           354.72  \n",
       "3          2597.01  \n",
       "4           785.65  \n",
       "5          1084.78  "
      ]
     },
     "execution_count": 18,
     "metadata": {},
     "output_type": "execute_result"
    }
   ],
   "source": [
    "Income_df = pd.read_excel(r\"C:\\Users\\omkar\\PYTHON_PROJECTS\\POWERBI_PROJECTS\\Financial Cash Flow\\Dataset\\DataBase.xlsx\",sheet_name='Income')\n",
    "Income_df.head(6)"
   ]
  },
  {
   "cell_type": "code",
   "execution_count": 19,
   "metadata": {},
   "outputs": [
    {
     "data": {
      "text/plain": [
       "Issue Date          datetime64[ns]\n",
       "Due Date            datetime64[ns]\n",
       "Settlement Date     datetime64[ns]\n",
       "Chart Account ID             int64\n",
       "UF                          object\n",
       "Customer                    object\n",
       "Amount Received            float64\n",
       "dtype: object"
      ]
     },
     "execution_count": 19,
     "metadata": {},
     "output_type": "execute_result"
    }
   ],
   "source": [
    "Income_df.dtypes"
   ]
  },
  {
   "cell_type": "code",
   "execution_count": 20,
   "metadata": {},
   "outputs": [
    {
     "data": {
      "text/html": [
       "<div>\n",
       "<style scoped>\n",
       "    .dataframe tbody tr th:only-of-type {\n",
       "        vertical-align: middle;\n",
       "    }\n",
       "\n",
       "    .dataframe tbody tr th {\n",
       "        vertical-align: top;\n",
       "    }\n",
       "\n",
       "    .dataframe thead th {\n",
       "        text-align: right;\n",
       "    }\n",
       "</style>\n",
       "<table border=\"1\" class=\"dataframe\">\n",
       "  <thead>\n",
       "    <tr style=\"text-align: right;\">\n",
       "      <th></th>\n",
       "      <th>Chart Account ID</th>\n",
       "      <th>Amount Received</th>\n",
       "    </tr>\n",
       "  </thead>\n",
       "  <tbody>\n",
       "    <tr>\n",
       "      <th>count</th>\n",
       "      <td>14671.000000</td>\n",
       "      <td>14671.000000</td>\n",
       "    </tr>\n",
       "    <tr>\n",
       "      <th>mean</th>\n",
       "      <td>5004.230591</td>\n",
       "      <td>4146.476006</td>\n",
       "    </tr>\n",
       "    <tr>\n",
       "      <th>std</th>\n",
       "      <td>11.943513</td>\n",
       "      <td>23639.438854</td>\n",
       "    </tr>\n",
       "    <tr>\n",
       "      <th>min</th>\n",
       "      <td>5001.000000</td>\n",
       "      <td>0.000000</td>\n",
       "    </tr>\n",
       "    <tr>\n",
       "      <th>25%</th>\n",
       "      <td>5003.000000</td>\n",
       "      <td>514.805000</td>\n",
       "    </tr>\n",
       "    <tr>\n",
       "      <th>50%</th>\n",
       "      <td>5003.000000</td>\n",
       "      <td>949.270000</td>\n",
       "    </tr>\n",
       "    <tr>\n",
       "      <th>75%</th>\n",
       "      <td>5003.000000</td>\n",
       "      <td>1899.735000</td>\n",
       "    </tr>\n",
       "    <tr>\n",
       "      <th>max</th>\n",
       "      <td>5111.000000</td>\n",
       "      <td>895806.780000</td>\n",
       "    </tr>\n",
       "  </tbody>\n",
       "</table>\n",
       "</div>"
      ],
      "text/plain": [
       "       Chart Account ID  Amount Received\n",
       "count      14671.000000     14671.000000\n",
       "mean        5004.230591      4146.476006\n",
       "std           11.943513     23639.438854\n",
       "min         5001.000000         0.000000\n",
       "25%         5003.000000       514.805000\n",
       "50%         5003.000000       949.270000\n",
       "75%         5003.000000      1899.735000\n",
       "max         5111.000000    895806.780000"
      ]
     },
     "execution_count": 20,
     "metadata": {},
     "output_type": "execute_result"
    }
   ],
   "source": [
    "Income_df.describe()"
   ]
  },
  {
   "cell_type": "code",
   "execution_count": null,
   "metadata": {},
   "outputs": [],
   "source": []
  }
 ],
 "metadata": {
  "interpreter": {
   "hash": "ba2854e3694990500d01efbf70d7dfabf07c03df975fde114183e443dbc65ea4"
  },
  "kernelspec": {
   "display_name": "chrun",
   "language": "python",
   "name": "python3"
  },
  "language_info": {
   "codemirror_mode": {
    "name": "ipython",
    "version": 3
   },
   "file_extension": ".py",
   "mimetype": "text/x-python",
   "name": "python",
   "nbconvert_exporter": "python",
   "pygments_lexer": "ipython3",
   "version": "3.10.4"
  },
  "orig_nbformat": 4
 },
 "nbformat": 4,
 "nbformat_minor": 2
}
